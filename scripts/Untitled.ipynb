{
 "cells": [
  {
   "cell_type": "code",
   "execution_count": 1,
   "metadata": {},
   "outputs": [],
   "source": [
    "import json\n",
    "import numpy as np\n",
    "import argparse\n",
    "from random import randint\n",
    "import cv2\n",
    "\n",
    "# with open('../infos/directory.json') as fp: all_data_dir=json.load(fp)    \n",
    "\n",
    "\n",
    "ANN_FILE_train = '../All_data/Annotations_vcoco/train_annotations.json' \n",
    "ANN_FILE_val='../All_data/Annotations_vcoco/val_annotations.json'\n",
    "ANN_FILE_test='../All_data/Annotations_vcoco/test_annotations.json'\n",
    "\n",
    "OBJ_PATH_train_s = '../All_data/Object_Detections_vcoco/train/'\n",
    "OBJ_PATH_test_s= '../All_data/Object_Detections_vcoco/val/' \n",
    "# with open(ANN_FILE_train) as fp:\n",
    "#     ANNOTATIONS_train = json.load(fp)\n",
    "# with open(ANN_FILE_test) as fp:\n",
    "#     ANNOTATIONS_test = json.load(fp)\n",
    "# with open(ANN_FILE_val) as fp:\n",
    "#     ANNOTATIONS_val = json.load(fp)"
   ]
  },
  {
   "cell_type": "code",
   "execution_count": 2,
   "metadata": {},
   "outputs": [],
   "source": [
    "cur_obj_path_s = OBJ_PATH_test_s + \"COCO_val2014_%.12i.json\" % (565248)\n",
    "with open(cur_obj_path_s) as fp:detections = json.load(fp)"
   ]
  },
  {
   "cell_type": "code",
   "execution_count": 3,
   "metadata": {},
   "outputs": [],
   "source": [
    "H = detections['H']\n",
    "W = detections['W']\n",
    "select = []\n",
    "for det in detections['detections']: \n",
    "    if det['class_str'] == 'person': \n",
    "#         detections['detections'].remove(det)\n",
    "        continue\n",
    "    if det['score'] < 0.5: \n",
    "#         detections['detections'].remove(det)\n",
    "        continue\n",
    "#     det['box_coords'][0] =  det['box_coords'][0] * W\n",
    "#     det['box_coords'][1] =  det['box_coords'][1] * H\n",
    "#     det['box_coords'][2] =  det['box_coords'][2] * W\n",
    "#     det['box_coords'][3] =  det['box_coords'][3] * H\n",
    "    select.append(det)"
   ]
  },
  {
   "cell_type": "code",
   "execution_count": 7,
   "metadata": {},
   "outputs": [
    {
     "data": {
      "text/plain": [
       "[{'class_str': 'horse',\n",
       "  'score': 0.944,\n",
       "  'class_no': 18,\n",
       "  'box_coords': [0.746, 0.038, 0.991, 0.697]},\n",
       " {'class_str': 'horse',\n",
       "  'score': 0.666,\n",
       "  'class_no': 18,\n",
       "  'box_coords': [0.652, 0.196, 0.832, 0.299]},\n",
       " {'class_str': 'horse',\n",
       "  'score': 0.963,\n",
       "  'class_no': 18,\n",
       "  'box_coords': [0.599, 0.146, 0.979, 0.809]},\n",
       " {'class_str': 'horse',\n",
       "  'score': 0.861,\n",
       "  'class_no': 18,\n",
       "  'box_coords': [0.745, 0.502, 0.986, 0.782]},\n",
       " {'class_str': 'backpack',\n",
       "  'score': 0.975,\n",
       "  'class_no': 25,\n",
       "  'box_coords': [0.506, 0.463, 0.665, 0.522]},\n",
       " {'class_str': 'backpack',\n",
       "  'score': 0.515,\n",
       "  'class_no': 25,\n",
       "  'box_coords': [0.498, 0.401, 0.665, 0.522]},\n",
       " {'class_str': 'handbag',\n",
       "  'score': 0.842,\n",
       "  'class_no': 27,\n",
       "  'box_coords': [0.662, 0.095, 0.891, 0.207]}]"
      ]
     },
     "execution_count": 7,
     "metadata": {},
     "output_type": "execute_result"
    }
   ],
   "source": [
    "select"
   ]
  },
  {
   "cell_type": "code",
   "execution_count": 9,
   "metadata": {},
   "outputs": [
    {
     "data": {
      "text/plain": [
       "640"
      ]
     },
     "execution_count": 9,
     "metadata": {},
     "output_type": "execute_result"
    }
   ],
   "source": [
    "W"
   ]
  }
 ],
 "metadata": {
  "kernelspec": {
   "display_name": "Python 3",
   "language": "python",
   "name": "python3"
  },
  "language_info": {
   "codemirror_mode": {
    "name": "ipython",
    "version": 3
   },
   "file_extension": ".py",
   "mimetype": "text/x-python",
   "name": "python",
   "nbconvert_exporter": "python",
   "pygments_lexer": "ipython3",
   "version": "3.7.6"
  }
 },
 "nbformat": 4,
 "nbformat_minor": 2
}
